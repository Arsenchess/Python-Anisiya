{
 "cells": [
  {
   "cell_type": "code",
   "execution_count": 2,
   "metadata": {},
   "outputs": [
    {
     "name": "stdout",
     "output_type": "stream",
     "text": [
      "no\n"
     ]
    }
   ],
   "source": [
    "#https://codeforces.com/problemset/problem/4/A\n",
    "\n",
    "num = int(input())\n",
    "if num % 2 == 0 and num != 2:\n",
    "    print(\"yes\")\n",
    "else:\n",
    "    print(\"no\")\n"
   ]
  },
  {
   "cell_type": "code",
   "execution_count": 6,
   "metadata": {},
   "outputs": [
    {
     "name": "stdout",
     "output_type": "stream",
     "text": [
      "n: <class 'str'> m: 4\n"
     ]
    }
   ],
   "source": [
    "# https://codeforces.com/problemset/problem/50/A\n",
    "\n",
    "n, m = input().split() # input() - by default data type => str\n",
    "# print(n * m // 2)\n",
    "print(\"n:\", type(n) ,\"m:\", m)"
   ]
  },
  {
   "cell_type": "code",
   "execution_count": null,
   "metadata": {},
   "outputs": [],
   "source": []
  },
  {
   "cell_type": "code",
   "execution_count": 27,
   "metadata": {},
   "outputs": [
    {
     "data": {
      "text/plain": [
       "str"
      ]
     },
     "execution_count": 27,
     "metadata": {},
     "output_type": "execute_result"
    }
   ],
   "source": [
    "def input1(str, num=\"1\") -> str:  # def - keyword for creat function\n",
    "    \"\"\"\n",
    "    keyword name_func(parameters):\n",
    "        code\n",
    "\n",
    "    name_func(arguments / sometimes parameters)\n",
    "    \"\"\"\n",
    "    return f'str:{str}, num: {num}'  # f'text {variable}' => f - string\n",
    "\n",
    "\n",
    "type(input1(4))  # arguments\n",
    "\n",
    "# (note) call function => name_func()\n",
    "\n",
    "# data type \n",
    "# 1) int - integer\n",
    "# 2) str - string"
   ]
  },
  {
   "cell_type": "code",
   "execution_count": null,
   "metadata": {},
   "outputs": [],
   "source": [
    "#Всем установить\n",
    "\n",
    "#pip install flake8-variables-names\n",
    "#pip install flake8-functions-names\n",
    "#pip install flake8-builtins\n",
    "#pip install flake8-bugbear\n",
    "#pip install pep8-naming"
   ]
  }
 ],
 "metadata": {
  "kernelspec": {
   "display_name": "conda_venv",
   "language": "python",
   "name": "python3"
  },
  "language_info": {
   "codemirror_mode": {
    "name": "ipython",
    "version": 3
   },
   "file_extension": ".py",
   "mimetype": "text/x-python",
   "name": "python",
   "nbconvert_exporter": "python",
   "pygments_lexer": "ipython3",
   "version": "3.11.4"
  },
  "orig_nbformat": 4
 },
 "nbformat": 4,
 "nbformat_minor": 2
}
