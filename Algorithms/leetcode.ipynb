{
 "cells": [
  {
   "cell_type": "code",
   "execution_count": 5,
   "metadata": {},
   "outputs": [
    {
     "data": {
      "text/plain": [
       "'SENATOROV'"
      ]
     },
     "execution_count": 5,
     "metadata": {},
     "output_type": "execute_result"
    }
   ],
   "source": [
    "class Car:\n",
    "    name = \"SENATOROV subscribe\"  # properties of class\n",
    "\n",
    "    def get_value(self, x):  # method of class\n",
    "        return x\n",
    "\n",
    "\n",
    "object1 = Car()  # creating a class object / creating instanse of a class\n",
    "object2 = Car()  \n",
    "dir(object1) # shows class attributes\n",
    "object1.name\n",
    "# object1.get_value(3)  # func_name + () => call func and passing arguments\n"
   ]
  },
  {
   "cell_type": "code",
   "execution_count": 19,
   "metadata": {},
   "outputs": [
    {
     "data": {
      "text/plain": [
       "'ayisina'"
      ]
     },
     "execution_count": 19,
     "metadata": {},
     "output_type": "execute_result"
    }
   ],
   "source": [
    "# num = int(input())\n",
    "\n",
    "num == 6 # return bool\n",
    "\n",
    "name = \"anisiya\"\n",
    "type(name)\n",
    "\n",
    "name[0] \n",
    "name[-2] # index\n",
    "\n",
    "name[0:3] # [start:stop:step] => (stop, step) => optional  \n",
    "name[::2]\n",
    "name[::-1] # reverse \n"
   ]
  },
  {
   "cell_type": "code",
   "execution_count": 22,
   "metadata": {},
   "outputs": [
    {
     "data": {
      "text/plain": [
       "True"
      ]
     },
     "execution_count": 22,
     "metadata": {},
     "output_type": "execute_result"
    }
   ],
   "source": [
    "# https://leetcode.com/problems/palindrome-number/submissions/\n",
    "\n",
    "\n",
    "class Solution:\n",
    "    def isPalindrome(self, x: int) -> bool:\n",
    "        return str(x) == str(x)[::-1]\n",
    "\n",
    "\n",
    "object1 = Solution()\n",
    "\n",
    "object1.isPalindrome(121)\n",
    " # отдай коммит и файл лога!!!"
   ]
  },
  {
   "cell_type": "code",
   "execution_count": null,
   "metadata": {},
   "outputs": [],
   "source": [
    "#https://leetcode.com/problems/number-of-good-pairs/\n",
    "class Solution:\n",
    "    def numIdenticalPairs(self, nums: List[int]) -> int:\n",
    "        count = 0\n",
    "        for i in range(len(nums)):\n",
    "            for j in range(i+1,len(nums)):\n",
    "                if nums[i] == nums[j]:\n",
    "                    count += 1\n",
    "        return count\n",
    "\n",
    "# Remove class\n",
    "from typing import List, Dict\n",
    "def numIdenticalPairs(nums: List[int]) -> int:\n",
    "    count = 0\n",
    "    for i in range(len(nums)):\n",
    "        for j in range(i+1,len(nums)):\n",
    "            if nums[i] == nums[j]:\n",
    "                count += 1\n",
    "    return count\n",
    "nums = [1,2,3,1,1,3]\n",
    "numIdenticalPairs(nums)"
   ]
  },
  {
   "cell_type": "code",
   "execution_count": 1,
   "metadata": {},
   "outputs": [
    {
     "ename": "NameError",
     "evalue": "name 'List' is not defined",
     "output_type": "error",
     "traceback": [
      "\u001b[1;31m---------------------------------------------------------------------------\u001b[0m",
      "\u001b[1;31mNameError\u001b[0m                                 Traceback (most recent call last)",
      "Cell \u001b[1;32mIn[1], line 6\u001b[0m\n\u001b[0;32m      1\u001b[0m \u001b[39m# https://leetcode.com/problems/convert-the-temperature/\u001b[39;00m\n\u001b[0;32m      2\u001b[0m \u001b[39m# Input: celsius = 36.50\u001b[39;00m\n\u001b[0;32m      3\u001b[0m \u001b[39m# Output: [309.65000,97.70000]\u001b[39;00m\n\u001b[1;32m----> 6\u001b[0m \u001b[39mclass\u001b[39;49;00m \u001b[39mSolution\u001b[39;49;00m:\n\u001b[0;32m      7\u001b[0m     \u001b[39mdef\u001b[39;49;00m \u001b[39mconvertTemperature\u001b[39;49m(\u001b[39mself\u001b[39;49m, celsius: \u001b[39mfloat\u001b[39;49m) \u001b[39m-\u001b[39;49m\u001b[39m>\u001b[39;49m List[\u001b[39mfloat\u001b[39;49m]:\n\u001b[0;32m      8\u001b[0m         \u001b[39mreturn\u001b[39;49;00m [celsius \u001b[39m+\u001b[39;49m \u001b[39m273.15\u001b[39;49m, celsius \u001b[39m*\u001b[39;49m \u001b[39m1.80\u001b[39;49m \u001b[39m+\u001b[39;49m \u001b[39m32.00\u001b[39;49m]\n",
      "Cell \u001b[1;32mIn[1], line 7\u001b[0m, in \u001b[0;36mSolution\u001b[1;34m()\u001b[0m\n\u001b[0;32m      6\u001b[0m \u001b[39mclass\u001b[39;00m \u001b[39mSolution\u001b[39;00m:\n\u001b[1;32m----> 7\u001b[0m     \u001b[39mdef\u001b[39;00m \u001b[39mconvertTemperature\u001b[39m(\u001b[39mself\u001b[39m, celsius: \u001b[39mfloat\u001b[39m) \u001b[39m-\u001b[39m\u001b[39m>\u001b[39m List[\u001b[39mfloat\u001b[39m]:\n\u001b[0;32m      8\u001b[0m         \u001b[39mreturn\u001b[39;00m [celsius \u001b[39m+\u001b[39m \u001b[39m273.15\u001b[39m, celsius \u001b[39m*\u001b[39m \u001b[39m1.80\u001b[39m \u001b[39m+\u001b[39m \u001b[39m32.00\u001b[39m]\n",
      "\u001b[1;31mNameError\u001b[0m: name 'List' is not defined"
     ]
    }
   ],
   "source": [
    "# https://leetcode.com/problems/convert-the-temperature/\n",
    "# Input: celsius = 36.50\n",
    "# Output: [309.65000,97.70000]\n",
    "\n",
    "\n",
    "class Solution:\n",
    "    def convertTemperature(self, celsius: float) -> List[float]:\n",
    "        return [celsius + 273.15, celsius * 1.80 + 32.00]\n",
    "\n",
    "\n",
    "SENATOROV = Solution()\n",
    "SENATOROV.convertTemperature(Solution())"
   ]
  },
  {
   "cell_type": "code",
   "execution_count": 3,
   "metadata": {},
   "outputs": [],
   "source": [
    "#https://leetcode.com/problems/find-the-maximum-achievable-number/description/\n",
    "class Solution:\n",
    "    def theMaximumAchievableX(self, num: int, t: int) -> int:\n",
    "        return num+2*t"
   ]
  },
  {
   "cell_type": "code",
   "execution_count": 4,
   "metadata": {},
   "outputs": [],
   "source": [
    "#https://leetcode.com/problems/smallest-even-multiple/submissions/\n",
    "class Solution:\n",
    "    def smallestEvenMultiple(self, n: int) -> int:\n",
    "     return n * (n % 2 + 1)  "
   ]
  },
  {
   "cell_type": "code",
   "execution_count": 8,
   "metadata": {},
   "outputs": [],
   "source": [
    "#https://leetcode.com/problems/divisible-and-non-divisible-sums-difference/submissions/\n",
    "class Solution:\n",
    "    def differenceOfSums(self, n: int, m: int) -> int:\n",
    "        num1, num2 = 0, 0\n",
    "        for i in range(1, n + 1, 1):\n",
    "            if i % m != 0:\n",
    "                num1 += i\n",
    "            else:\n",
    "                num2 += i\n",
    "        return num1 - num2\n",
    "    \n",
    "                              #or\n",
    "\n",
    "class Solution:\n",
    "    def differenceOfSums(self, n: int, m: int) -> int:\n",
    "        return n * (n+1) // 2 - n // m * (n // m + 1) // 2 * m * 2"
   ]
  },
  {
   "cell_type": "code",
   "execution_count": 24,
   "metadata": {},
   "outputs": [
    {
     "data": {
      "text/plain": [
       "0"
      ]
     },
     "execution_count": 24,
     "metadata": {},
     "output_type": "execute_result"
    }
   ],
   "source": [
    "class Solution:\n",
    "    def subtractProductAndSum(self, b: int) -> int:\n",
    "        n = list(str(b))\n",
    "        sum = 0\n",
    "        mult = 1\n",
    "        for i in n:\n",
    "            sum += int(i)\n",
    "            mult *= int(i)\n",
    "        return sum - mult\n",
    "\n",
    "object1 = Solution()\n",
    "object1.subtractProductAndSum(123)"
   ]
  },
  {
   "cell_type": "code",
   "execution_count": 22,
   "metadata": {},
   "outputs": [
    {
     "data": {
      "text/plain": [
       "2"
      ]
     },
     "execution_count": 22,
     "metadata": {},
     "output_type": "execute_result"
    }
   ],
   "source": [
    "# d = sorted(str(2932))\n",
    "# print(int(d[0] + d[2]) + int(d[1] + d[3]))\n",
    "sorted(str(2932)) \n",
    "int(d[0])\n",
    "\n",
    "#разбор задачи\n",
    "help(sorted)\n",
    "\n",
    "for i in '2932':\n",
    "    print(i)\n",
    "\n",
    "n = iter('2932')\n",
    "print(n.__next__())\n",
    "print(n.__next__())\n",
    "print(n.__next__())\n",
    "print(n.__next__())\n"
   ]
  },
  {
   "cell_type": "code",
   "execution_count": 41,
   "metadata": {},
   "outputs": [
    {
     "data": {
      "text/plain": [
       "16"
      ]
     },
     "execution_count": 41,
     "metadata": {},
     "output_type": "execute_result"
    }
   ],
   "source": [
    "#print(int(sorted(str(2932))[0]) + int(sorted(str(2932))[2]))\n",
    "# sorted(str(2932))[1] + int(sorted(str(2932))[3])\n",
    "# int(sorted(str(2932))[0])\n",
    "num = 2932\n",
    "int(sorted(str(num))[0]) + int(sorted(str(num))[2]) + int(sorted(str(num))[1]) + int(sorted(str(num))[3])"
   ]
  },
  {
   "cell_type": "code",
   "execution_count": 52,
   "metadata": {},
   "outputs": [
    {
     "data": {
      "text/plain": [
       "52"
      ]
     },
     "execution_count": 52,
     "metadata": {},
     "output_type": "execute_result"
    }
   ],
   "source": [
    "#https://leetcode.com/problems/minimum-sum-of-four-digit-number-after-splitting-digits/\n",
    "int(sorted(str(num))[0] + sorted(str(num))[2]) + int(sorted(str(num))[1] + sorted(str(num))[3])"
   ]
  },
  {
   "cell_type": "code",
   "execution_count": 78,
   "metadata": {},
   "outputs": [
    {
     "data": {
      "text/plain": [
       "52"
      ]
     },
     "execution_count": 78,
     "metadata": {},
     "output_type": "execute_result"
    }
   ],
   "source": [
    "num = 2932\n",
    "return list(map(int, (sorted(str(num))[i] + sorted(str(num))[j] for i, j in [(0, 2), (1, 3)])))[0] + list(map(int, (sorted(str(num))[i] + sorted(str(num))[j] for i, j in [(0, 2), (1, 3)])))[1] \n",
    "\n"
   ]
  },
  {
   "cell_type": "code",
   "execution_count": 18,
   "metadata": {},
   "outputs": [
    {
     "name": "stdout",
     "output_type": "stream",
     "text": [
      "2\n",
      "9\n",
      "3\n",
      "2\n"
     ]
    }
   ],
   "source": [
    "# help(sorted)\n",
    "\n",
    "# for i in '2932':\n",
    "#     print(i)\n",
    "\n",
    "# n = iter('2932')\n",
    "# print(n.__next__())\n",
    "# print(n.__next__())\n",
    "# print(n.__next__())\n",
    "# print(n.__next__())"
   ]
  }
 ],
 "metadata": {
  "kernelspec": {
   "display_name": "conda_venv",
   "language": "python",
   "name": "python3"
  },
  "language_info": {
   "codemirror_mode": {
    "name": "ipython",
    "version": 3
   },
   "file_extension": ".py",
   "mimetype": "text/x-python",
   "name": "python",
   "nbconvert_exporter": "python",
   "pygments_lexer": "ipython3",
   "version": "3.11.4"
  },
  "orig_nbformat": 4
 },
 "nbformat": 4,
 "nbformat_minor": 2
}
