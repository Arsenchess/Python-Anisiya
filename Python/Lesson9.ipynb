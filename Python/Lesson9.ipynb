{
 "cells": [
  {
   "cell_type": "markdown",
   "metadata": {},
   "source": [
    "### pull request\n",
    "1) fork repository\n",
    "2) clone to host(pc)\n",
    "3) edit file\n",
    "4) commit and push\n",
    "5) pull request from my account\n",
    "6) send link"
   ]
  }
 ],
 "metadata": {
  "language_info": {
   "name": "python"
  }
 },
 "nbformat": 4,
 "nbformat_minor": 2
}
