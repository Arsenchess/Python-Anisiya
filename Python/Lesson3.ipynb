{
 "cells": [
  {
   "cell_type": "markdown",
   "metadata": {},
   "source": [
    "My os is ubuntu\n",
    "My package is .deb or snap"
   ]
  },
  {
   "cell_type": "markdown",
   "metadata": {},
   "source": [
    "How to install package in ubuntu\n",
    "1) just click\n",
    "2)  Need to choose package GDebi\n",
    "\n",
    "If not .deb package \n",
    "1) install snap package"
   ]
  },
  {
   "cell_type": "markdown",
   "metadata": {},
   "source": [
    "Tar.xz this is a zip file - archive"
   ]
  },
  {
   "cell_type": "markdown",
   "metadata": {},
   "source": [
    "docs git https://git-scm.com/docs/git-commit"
   ]
  },
  {
   "cell_type": "markdown",
   "metadata": {},
   "source": [
    "Install apps use apt in terminal"
   ]
  },
  {
   "cell_type": "markdown",
   "metadata": {},
   "source": [
    "git config --global user.name \"a4168048\"\n",
    "git config --global user.email \"baa8048@yandex.ru\""
   ]
  }
 ],
 "metadata": {
  "language_info": {
   "name": "python"
  },
  "orig_nbformat": 4
 },
 "nbformat": 4,
 "nbformat_minor": 2
}
