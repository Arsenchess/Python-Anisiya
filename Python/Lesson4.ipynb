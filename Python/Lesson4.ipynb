{
 "cells": [
  {
   "cell_type": "markdown",
   "metadata": {},
   "source": [
    "Interaction Algorithms\n",
    "1) Choose a colleague\n",
    "2) Write to the chat advice the repository\n",
    "3) Choose myself the repository\n",
    "4) Select SENATOROVAI and make fork\n",
    "5) Create a dev branch \n",
    "6) Clone to local host/ps use VS code\n",
    "7) Put the link in clone button https://github.com/SENATOROVAI/lesson4-functions-dz.git\n",
    "8) i comment lines that are incomprehensible\n",
    "9) Make a commit\n",
    "10) write to the chat code review @ teg for the author\n",
    "\n"
   ]
  },
  {
   "cell_type": "markdown",
   "metadata": {},
   "source": []
  }
 ],
 "metadata": {
  "language_info": {
   "name": "python"
  },
  "orig_nbformat": 4
 },
 "nbformat": 4,
 "nbformat_minor": 2
}
