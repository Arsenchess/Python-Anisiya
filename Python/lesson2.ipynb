{
  "nbformat": 4,
  "nbformat_minor": 0,
  "metadata": {
    "colab": {
      "provenance": []
    },
    "kernelspec": {
      "name": "python3",
      "display_name": "Python 3"
    },
    "language_info": {
      "name": "python"
    }
  },
  "cells": [
    {
      "cell_type": "code",
      "execution_count": 8,
      "metadata": {
        "colab": {
          "base_uri": "https://localhost:8080/"
        },
        "id": "FzgRSlb7_xw4",
        "outputId": "fa0e99b0-632f-4b51-d893-18cfee695b8a"
      },
      "outputs": [
        {
          "output_type": "execute_result",
          "data": {
            "text/plain": [
              "2"
            ]
          },
          "metadata": {},
          "execution_count": 8
        }
      ],
      "source": [
        "# математические операторы\n",
        "1+1\n",
        "5 - 4\n",
        "10 * 2\n",
        "30 / 5 # обычное деление\n",
        "32 // 3 # деление с отбрасыванием остатка\n",
        "32 % 3 # деление по модулю, остаток от деления\n",
        "2 % 3"
      ]
    },
    {
      "cell_type": "code",
      "source": [
        "32 / 3"
      ],
      "metadata": {
        "colab": {
          "base_uri": "https://localhost:8080/"
        },
        "id": "zVotCA0eBImp",
        "outputId": "6dddd0da-f716-4ad7-cefa-010e9720b803"
      },
      "execution_count": 2,
      "outputs": [
        {
          "output_type": "execute_result",
          "data": {
            "text/plain": [
              "10.666666666666666"
            ]
          },
          "metadata": {},
          "execution_count": 2
        }
      ]
    },
    {
      "cell_type": "code",
      "source": [
        "2**0 # любое число в нулевой степени = 1"
      ],
      "metadata": {
        "colab": {
          "base_uri": "https://localhost:8080/"
        },
        "id": "uswo_mJTEvjH",
        "outputId": "604bacda-d5d2-438c-923f-5de0664fe3a8"
      },
      "execution_count": 3,
      "outputs": [
        {
          "output_type": "execute_result",
          "data": {
            "text/plain": [
              "1"
            ]
          },
          "metadata": {},
          "execution_count": 3
        }
      ]
    },
    {
      "cell_type": "code",
      "source": [
        "2**3\n",
        "2**6\n",
        "2**10"
      ],
      "metadata": {
        "colab": {
          "base_uri": "https://localhost:8080/"
        },
        "id": "KuTVKjUJFSsK",
        "outputId": "b3a74911-9045-4da4-9cb8-8da89d205a56"
      },
      "execution_count": 6,
      "outputs": [
        {
          "output_type": "execute_result",
          "data": {
            "text/plain": [
              "1024"
            ]
          },
          "metadata": {},
          "execution_count": 6
        }
      ]
    }
  ]
}