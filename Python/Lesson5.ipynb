{
 "cells": [
  {
   "cell_type": "markdown",
   "metadata": {},
   "source": [
    "Creating virtual environment\n",
    "Command:\n",
    "Python -m venv venv "
   ]
  },
  {
   "cell_type": "markdown",
   "metadata": {},
   "source": [
    "Superadmin,command: \n",
    "sudo su "
   ]
  },
  {
   "cell_type": "markdown",
   "metadata": {},
   "source": [
    "Unlocking the process,command:\n",
    "sudo rm /var/lib/dpkg/lock\n",
    "sudo rm /var/lib/dpkg/lock-frontend"
   ]
  }
 ],
 "metadata": {
  "language_info": {
   "name": "python"
  },
  "orig_nbformat": 4
 },
 "nbformat": 4,
 "nbformat_minor": 2
}
